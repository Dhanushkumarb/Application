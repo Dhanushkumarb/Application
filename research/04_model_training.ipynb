{
 "cells": [
  {
   "cell_type": "code",
   "execution_count": 1,
   "metadata": {},
   "outputs": [],
   "source": [
    "import os"
   ]
  },
  {
   "cell_type": "code",
   "execution_count": 2,
   "metadata": {},
   "outputs": [
    {
     "data": {
      "text/plain": [
       "'d:\\\\Project\\\\redwine_end-to-end\\\\research'"
      ]
     },
     "execution_count": 2,
     "metadata": {},
     "output_type": "execute_result"
    }
   ],
   "source": [
    "%pwd"
   ]
  },
  {
   "cell_type": "code",
   "execution_count": 3,
   "metadata": {},
   "outputs": [],
   "source": [
    "os.chdir('../')"
   ]
  },
  {
   "cell_type": "code",
   "execution_count": 4,
   "metadata": {},
   "outputs": [
    {
     "data": {
      "text/plain": [
       "'d:\\\\Project\\\\redwine_end-to-end'"
      ]
     },
     "execution_count": 4,
     "metadata": {},
     "output_type": "execute_result"
    }
   ],
   "source": [
    "%pwd"
   ]
  },
  {
   "cell_type": "code",
   "execution_count": 8,
   "metadata": {},
   "outputs": [],
   "source": [
    "from dataclasses import dataclass\n",
    "from pathlib import Path\n",
    "\n",
    "@dataclass(frozen=True)\n",
    "class ModelTrainerConfig:\n",
    "    root_dir : Path\n",
    "    train_data_path : Path\n",
    "    test_data_path :Path\n",
    "    model_name : str\n",
    "    l1_ratio :float\n",
    "    alpha : float\n",
    "    target_column :str"
   ]
  },
  {
   "cell_type": "code",
   "execution_count": 9,
   "metadata": {},
   "outputs": [],
   "source": [
    "from src.constants import *\n",
    "from src.utils.common import read_yaml_file,create_directories"
   ]
  },
  {
   "cell_type": "code",
   "execution_count": 11,
   "metadata": {},
   "outputs": [],
   "source": [
    "class ConfigurationManager:\n",
    "    def __init__(\n",
    "        self,\n",
    "        config_filepath=CONFIG_FILE_PATH,\n",
    "        param_filepath=PARAMS_FILE_PATH,\n",
    "        schema_filepath=SCHEMA_FILE_PATH):\n",
    "        \n",
    "        self.config=read_yaml_file(config_filepath)\n",
    "        self.params=read_yaml_file(param_filepath)\n",
    "        self.schema=read_yaml_file(schema_filepath)\n",
    "        \n",
    "        create_directories([self.config.artifacts_root])\n",
    "        \n",
    "    def get_model_train_config(self)->ModelTrainerConfig:\n",
    "        \n",
    "        config=self.config.model_training\n",
    "        params=self.params.ElasticNet\n",
    "        schema=self.schema.TARGET_COLUMN\n",
    "        \n",
    "        create_directories([config.root_dir])\n",
    "        \n",
    "        model_train_data=ModelTrainerConfig(\n",
    "            root_dir=config.root_dir,\n",
    "            train_data_path= config.train_data_path,\n",
    "            test_data_path=config.test_data_path,\n",
    "            model_name=config.model_name,\n",
    "            l1_ratio=params.l1_ratio,\n",
    "            alpha=params.alpha,\n",
    "            target_column=schema.name,\n",
    "        )\n",
    "        return model_train_data"
   ]
  },
  {
   "cell_type": "code",
   "execution_count": null,
   "metadata": {},
   "outputs": [],
   "source": [
    "from sklearn.linear_model import ElasticNet\n",
    "from src.logging import logger\n",
    "import os\n",
    "import pickle\n",
    "import pandas as pd "
   ]
  },
  {
   "cell_type": "code",
   "execution_count": null,
   "metadata": {},
   "outputs": [],
   "source": [
    "class ModelTrainer:\n",
    "    def __init__(self,config :ModelTrainerConfig):\n",
    "        self.config=config\n",
    "        \n",
    "    def train_config(self):\n",
    "        train_data=pd.read_csv(self.config.train_data_path)\n",
    "        test_data=pd.read_csv(self.config.test_data_path)\n",
    "        \n",
    "        train_X=train_data.drop([self.config.target_column],axis=1)\n",
    "        test_X=test_data.drop([self.config.target_column],axis=1)\n",
    "        train_y=train_data[[self.config.target_column]]\n",
    "        test_y=test_data[[self.config.target_column]]\n",
    "        \n",
    "        ls=ElasticNet(l1_ratio=self.config.l1_ratio,alpha=self.config.alpha ,random_state=42)\n",
    "        ls.fit(train_X,train_y)\n",
    "        \n",
    "        \n",
    "\n",
    "        file_path = os.path.join(self.config.root_dir, self.config.model_name)\n",
    "\n",
    "        # Open the file in write-binary mode\n",
    "        with open(file_path, \"wb\") as f:\n",
    "            pickle.dump(ls, f)\n",
    "\n",
    "\n",
    "        "
   ]
  },
  {
   "cell_type": "code",
   "execution_count": 21,
   "metadata": {},
   "outputs": [
    {
     "name": "stdout",
     "output_type": "stream",
     "text": [
      "[2025-02-19 23:01:07,089]: INFO: common:  yaml file config\\config.yaml has loaded succesfully\n",
      "[2025-02-19 23:01:07,093]: INFO: common:  yaml file params.yaml has loaded succesfully\n",
      "[2025-02-19 23:01:07,097]: INFO: common:  yaml file schema.yaml has loaded succesfully\n",
      "[2025-02-19 23:01:07,101]: INFO: common:  path has been created in artifacts\n",
      "[2025-02-19 23:01:07,103]: INFO: common:  path has been created in artifacts/model_trainer\n"
     ]
    }
   ],
   "source": [
    "try:\n",
    "    config=ConfigurationManager()\n",
    "    model_train_config=config.get_model_train_config()\n",
    "    model_train=ModelTrainer(config=model_train_config)\n",
    "    model_train.train_config()\n",
    "    \n",
    "except Exception as e:\n",
    "    raise e"
   ]
  }
 ],
 "metadata": {
  "kernelspec": {
   "display_name": "Python 3",
   "language": "python",
   "name": "python3"
  },
  "language_info": {
   "codemirror_mode": {
    "name": "ipython",
    "version": 3
   },
   "file_extension": ".py",
   "mimetype": "text/x-python",
   "name": "python",
   "nbconvert_exporter": "python",
   "pygments_lexer": "ipython3",
   "version": "3.11.11"
  }
 },
 "nbformat": 4,
 "nbformat_minor": 2
}
