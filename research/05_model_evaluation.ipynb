{
 "cells": [
  {
   "cell_type": "code",
   "execution_count": 1,
   "metadata": {},
   "outputs": [],
   "source": [
    "import os"
   ]
  },
  {
   "cell_type": "code",
   "execution_count": 2,
   "metadata": {},
   "outputs": [
    {
     "data": {
      "text/plain": [
       "'d:\\\\Project\\\\redwine_end-to-end\\\\research'"
      ]
     },
     "execution_count": 2,
     "metadata": {},
     "output_type": "execute_result"
    }
   ],
   "source": [
    "%pwd"
   ]
  },
  {
   "cell_type": "code",
   "execution_count": 3,
   "metadata": {},
   "outputs": [],
   "source": [
    "os.chdir('../')"
   ]
  },
  {
   "cell_type": "code",
   "execution_count": 4,
   "metadata": {},
   "outputs": [
    {
     "data": {
      "text/plain": [
       "'d:\\\\Project\\\\redwine_end-to-end'"
      ]
     },
     "execution_count": 4,
     "metadata": {},
     "output_type": "execute_result"
    }
   ],
   "source": [
    "%pwd"
   ]
  },
  {
   "cell_type": "code",
   "execution_count": 7,
   "metadata": {},
   "outputs": [],
   "source": [
    "from dataclasses import dataclass\n",
    "from pathlib import Path\n",
    "\n",
    "@dataclass\n",
    "class ModelEvaluationConfig:\n",
    "    root_dir: Path\n",
    "    test_data_path :Path\n",
    "    model_path :Path\n",
    "    metrics_file_name :Path\n",
    "    all_param :dict\n",
    "    target_column : str"
   ]
  },
  {
   "cell_type": "code",
   "execution_count": 8,
   "metadata": {},
   "outputs": [],
   "source": [
    "from src.constants import *\n",
    "from src.utils.common import read_yaml_file,create_directories"
   ]
  },
  {
   "cell_type": "code",
   "execution_count": null,
   "metadata": {},
   "outputs": [],
   "source": [
    "class ConfigurationManager:\n",
    "    def __init__(\n",
    "        self,\n",
    "        config_filepath=CONFIG_FILE_PATH,\n",
    "        params_filepath=PARAMS_FILE_PATH,\n",
    "        schema_filepath=SCHEMA_FILE_PATH):\n",
    "        \n",
    "        self.config=read_yaml_file(config_filepath)\n",
    "        self.params=read_yaml_file(params_filepath)\n",
    "        self.schema=read_yaml_file(schema_filepath) \n",
    "        \n",
    "        create_directories([self.config.artifacts_root])\n",
    "        \n",
    "    def get_model_evaluate_config(self)->ModelEvaluationConfig:\n",
    "        config=self.config.model_evaluation\n",
    "        params=self.params.ElasticNet\n",
    "        schema=self.schema.TARGET_COLUMN\n",
    "        \n",
    "        create_directories([config.root_dir])\n",
    "        data_evaluation_config=ModelEvaluationConfig(\n",
    "            root_dir=config.root_dir,\n",
    "            test_data_path=config.test_data_path,\n",
    "            model_path=config.model_path,\n",
    "            metrics_file_name=config.metrics_file_name,\n",
    "            all_param=params,\n",
    "            target_column=schema.name,\n",
    "        )\n",
    "        return data_evaluation_config"
   ]
  },
  {
   "cell_type": "code",
   "execution_count": 16,
   "metadata": {},
   "outputs": [],
   "source": [
    "from sklearn.metrics import mean_squared_error,r2_score\n",
    "from src.logging import logger\n",
    "import os\n",
    "import pandas as pd\n",
    "import numpy as np\n",
    "import pickle\n",
    "from urllib.parse import urlparse\n",
    "from utils.common import save_json"
   ]
  },
  {
   "cell_type": "code",
   "execution_count": 22,
   "metadata": {},
   "outputs": [],
   "source": [
    "class ModelEvaluation:\n",
    "    def __init__(self,config :ModelEvaluationConfig):\n",
    "        self.config=config\n",
    "        \n",
    "    def model_metric(self,actual,pred):\n",
    "        rmse=np.sqrt(mean_squared_error(actual,pred))\n",
    "        mae=mean_squared_error(actual,pred)\n",
    "        score=r2_score(actual,pred)\n",
    "        return rmse,mae,score\n",
    "    \n",
    "    def save_file(self):\n",
    "        \n",
    "        data_test=pd.read_csv(self.config.test_data_path)\n",
    "        with open(self.config.model_path,'rb') as f:\n",
    "            model=pickle.load(f)\n",
    "            \n",
    "        \n",
    "        \n",
    "        test_X=data_test.drop([self.config.target_column],axis=1)\n",
    "        test_y=data_test[[self.config.target_column]]\n",
    "        \n",
    "        predicted_value=model.predict(test_X)\n",
    "        \n",
    "        (rmse,mae,score)= self.model_metric(test_y,predicted_value)\n",
    "        \n",
    "        scores={\"rmse\":rmse,\"mae\":mae,\"score\":score}\n",
    "        save_json(path=Path(self.config.metrics_file_name),data=scores)"
   ]
  },
  {
   "cell_type": "code",
   "execution_count": 23,
   "metadata": {},
   "outputs": [
    {
     "name": "stdout",
     "output_type": "stream",
     "text": [
      "[2025-02-20 11:58:09,070]: INFO: common:  yaml file config\\config.yaml has loaded succesfully\n",
      "[2025-02-20 11:58:09,070]: INFO: common:  yaml file params.yaml has loaded succesfully\n",
      "[2025-02-20 11:58:09,073]: INFO: common:  yaml file schema.yaml has loaded succesfully\n",
      "[2025-02-20 11:58:09,077]: INFO: common:  path has been created in artifacts\n",
      "[2025-02-20 11:58:09,078]: INFO: common:  path has been created in artifacts/model_evaluation\n",
      "[2025-02-20 11:58:09,094]: INFO: common:  json file saved to artifacts\\model_evaluation\\metrics.json\n"
     ]
    }
   ],
   "source": [
    "try:\n",
    "    config=ConfigurationManager()\n",
    "    data_model_config=config.get_model_evaluate_config()\n",
    "    data_model=ModelEvaluation(config=data_model_config)\n",
    "    data_model.save_file()\n",
    "except Exception as e:\n",
    "    raise e"
   ]
  }
 ],
 "metadata": {
  "kernelspec": {
   "display_name": "Python 3",
   "language": "python",
   "name": "python3"
  },
  "language_info": {
   "codemirror_mode": {
    "name": "ipython",
    "version": 3
   },
   "file_extension": ".py",
   "mimetype": "text/x-python",
   "name": "python",
   "nbconvert_exporter": "python",
   "pygments_lexer": "ipython3",
   "version": "3.11.11"
  }
 },
 "nbformat": 4,
 "nbformat_minor": 2
}
